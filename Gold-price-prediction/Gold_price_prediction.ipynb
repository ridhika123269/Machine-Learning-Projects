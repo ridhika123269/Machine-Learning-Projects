{
  "nbformat": 4,
  "nbformat_minor": 0,
  "metadata": {
    "colab": {
      "name": "Gold-price-prediction.ipynb",
      "provenance": []
    },
    "kernelspec": {
      "name": "python3",
      "display_name": "Python 3"
    },
    "language_info": {
      "name": "python"
    }
  },
  "cells": [
    {
      "cell_type": "markdown",
      "source": [
        "Importing the libraries"
      ],
      "metadata": {
        "id": "U5NAc6zZ_9-L"
      }
    },
    {
      "cell_type": "code",
      "execution_count": 22,
      "metadata": {
        "id": "NhSGZ4fb_pCg"
      },
      "outputs": [],
      "source": [
        "import numpy as np\n",
        "import pandas as pd\n",
        "import matplotlib.pyplot as plt\n",
        "import seaborn as sns\n",
        "from sklearn.model_selection import train_test_split\n",
        "from sklearn.ensemble import RandomForestRegressor\n",
        "from sklearn import metrics"
      ]
    },
    {
      "cell_type": "markdown",
      "source": [
        "Data Collection and Preprocessing"
      ],
      "metadata": {
        "id": "tuy-vGDfAxpA"
      }
    },
    {
      "cell_type": "code",
      "source": [
        "gold_data=pd.read_csv('gld_price_data.csv')"
      ],
      "metadata": {
        "id": "eBWR1TbYAp0B"
      },
      "execution_count": 2,
      "outputs": []
    },
    {
      "cell_type": "code",
      "source": [
        "gold_data.head()"
      ],
      "metadata": {
        "colab": {
          "base_uri": "https://localhost:8080/",
          "height": 206
        },
        "id": "HPz_E6_-A4LV",
        "outputId": "486fda5c-20f4-43e4-866e-6fea85e3eb28"
      },
      "execution_count": 3,
      "outputs": [
        {
          "output_type": "execute_result",
          "data": {
            "text/plain": [
              "       Date          SPX        GLD        USO     SLV   EUR/USD\n",
              "0  1/2/2008  1447.160034  84.860001  78.470001  15.180  1.471692\n",
              "1  1/3/2008  1447.160034  85.570000  78.370003  15.285  1.474491\n",
              "2  1/4/2008  1411.630005  85.129997  77.309998  15.167  1.475492\n",
              "3  1/7/2008  1416.180054  84.769997  75.500000  15.053  1.468299\n",
              "4  1/8/2008  1390.189941  86.779999  76.059998  15.590  1.557099"
            ],
            "text/html": [
              "\n",
              "  <div id=\"df-6f3c3341-83e3-4528-b4aa-712144d95d4e\">\n",
              "    <div class=\"colab-df-container\">\n",
              "      <div>\n",
              "<style scoped>\n",
              "    .dataframe tbody tr th:only-of-type {\n",
              "        vertical-align: middle;\n",
              "    }\n",
              "\n",
              "    .dataframe tbody tr th {\n",
              "        vertical-align: top;\n",
              "    }\n",
              "\n",
              "    .dataframe thead th {\n",
              "        text-align: right;\n",
              "    }\n",
              "</style>\n",
              "<table border=\"1\" class=\"dataframe\">\n",
              "  <thead>\n",
              "    <tr style=\"text-align: right;\">\n",
              "      <th></th>\n",
              "      <th>Date</th>\n",
              "      <th>SPX</th>\n",
              "      <th>GLD</th>\n",
              "      <th>USO</th>\n",
              "      <th>SLV</th>\n",
              "      <th>EUR/USD</th>\n",
              "    </tr>\n",
              "  </thead>\n",
              "  <tbody>\n",
              "    <tr>\n",
              "      <th>0</th>\n",
              "      <td>1/2/2008</td>\n",
              "      <td>1447.160034</td>\n",
              "      <td>84.860001</td>\n",
              "      <td>78.470001</td>\n",
              "      <td>15.180</td>\n",
              "      <td>1.471692</td>\n",
              "    </tr>\n",
              "    <tr>\n",
              "      <th>1</th>\n",
              "      <td>1/3/2008</td>\n",
              "      <td>1447.160034</td>\n",
              "      <td>85.570000</td>\n",
              "      <td>78.370003</td>\n",
              "      <td>15.285</td>\n",
              "      <td>1.474491</td>\n",
              "    </tr>\n",
              "    <tr>\n",
              "      <th>2</th>\n",
              "      <td>1/4/2008</td>\n",
              "      <td>1411.630005</td>\n",
              "      <td>85.129997</td>\n",
              "      <td>77.309998</td>\n",
              "      <td>15.167</td>\n",
              "      <td>1.475492</td>\n",
              "    </tr>\n",
              "    <tr>\n",
              "      <th>3</th>\n",
              "      <td>1/7/2008</td>\n",
              "      <td>1416.180054</td>\n",
              "      <td>84.769997</td>\n",
              "      <td>75.500000</td>\n",
              "      <td>15.053</td>\n",
              "      <td>1.468299</td>\n",
              "    </tr>\n",
              "    <tr>\n",
              "      <th>4</th>\n",
              "      <td>1/8/2008</td>\n",
              "      <td>1390.189941</td>\n",
              "      <td>86.779999</td>\n",
              "      <td>76.059998</td>\n",
              "      <td>15.590</td>\n",
              "      <td>1.557099</td>\n",
              "    </tr>\n",
              "  </tbody>\n",
              "</table>\n",
              "</div>\n",
              "      <button class=\"colab-df-convert\" onclick=\"convertToInteractive('df-6f3c3341-83e3-4528-b4aa-712144d95d4e')\"\n",
              "              title=\"Convert this dataframe to an interactive table.\"\n",
              "              style=\"display:none;\">\n",
              "        \n",
              "  <svg xmlns=\"http://www.w3.org/2000/svg\" height=\"24px\"viewBox=\"0 0 24 24\"\n",
              "       width=\"24px\">\n",
              "    <path d=\"M0 0h24v24H0V0z\" fill=\"none\"/>\n",
              "    <path d=\"M18.56 5.44l.94 2.06.94-2.06 2.06-.94-2.06-.94-.94-2.06-.94 2.06-2.06.94zm-11 1L8.5 8.5l.94-2.06 2.06-.94-2.06-.94L8.5 2.5l-.94 2.06-2.06.94zm10 10l.94 2.06.94-2.06 2.06-.94-2.06-.94-.94-2.06-.94 2.06-2.06.94z\"/><path d=\"M17.41 7.96l-1.37-1.37c-.4-.4-.92-.59-1.43-.59-.52 0-1.04.2-1.43.59L10.3 9.45l-7.72 7.72c-.78.78-.78 2.05 0 2.83L4 21.41c.39.39.9.59 1.41.59.51 0 1.02-.2 1.41-.59l7.78-7.78 2.81-2.81c.8-.78.8-2.07 0-2.86zM5.41 20L4 18.59l7.72-7.72 1.47 1.35L5.41 20z\"/>\n",
              "  </svg>\n",
              "      </button>\n",
              "      \n",
              "  <style>\n",
              "    .colab-df-container {\n",
              "      display:flex;\n",
              "      flex-wrap:wrap;\n",
              "      gap: 12px;\n",
              "    }\n",
              "\n",
              "    .colab-df-convert {\n",
              "      background-color: #E8F0FE;\n",
              "      border: none;\n",
              "      border-radius: 50%;\n",
              "      cursor: pointer;\n",
              "      display: none;\n",
              "      fill: #1967D2;\n",
              "      height: 32px;\n",
              "      padding: 0 0 0 0;\n",
              "      width: 32px;\n",
              "    }\n",
              "\n",
              "    .colab-df-convert:hover {\n",
              "      background-color: #E2EBFA;\n",
              "      box-shadow: 0px 1px 2px rgba(60, 64, 67, 0.3), 0px 1px 3px 1px rgba(60, 64, 67, 0.15);\n",
              "      fill: #174EA6;\n",
              "    }\n",
              "\n",
              "    [theme=dark] .colab-df-convert {\n",
              "      background-color: #3B4455;\n",
              "      fill: #D2E3FC;\n",
              "    }\n",
              "\n",
              "    [theme=dark] .colab-df-convert:hover {\n",
              "      background-color: #434B5C;\n",
              "      box-shadow: 0px 1px 3px 1px rgba(0, 0, 0, 0.15);\n",
              "      filter: drop-shadow(0px 1px 2px rgba(0, 0, 0, 0.3));\n",
              "      fill: #FFFFFF;\n",
              "    }\n",
              "  </style>\n",
              "\n",
              "      <script>\n",
              "        const buttonEl =\n",
              "          document.querySelector('#df-6f3c3341-83e3-4528-b4aa-712144d95d4e button.colab-df-convert');\n",
              "        buttonEl.style.display =\n",
              "          google.colab.kernel.accessAllowed ? 'block' : 'none';\n",
              "\n",
              "        async function convertToInteractive(key) {\n",
              "          const element = document.querySelector('#df-6f3c3341-83e3-4528-b4aa-712144d95d4e');\n",
              "          const dataTable =\n",
              "            await google.colab.kernel.invokeFunction('convertToInteractive',\n",
              "                                                     [key], {});\n",
              "          if (!dataTable) return;\n",
              "\n",
              "          const docLinkHtml = 'Like what you see? Visit the ' +\n",
              "            '<a target=\"_blank\" href=https://colab.research.google.com/notebooks/data_table.ipynb>data table notebook</a>'\n",
              "            + ' to learn more about interactive tables.';\n",
              "          element.innerHTML = '';\n",
              "          dataTable['output_type'] = 'display_data';\n",
              "          await google.colab.output.renderOutput(dataTable, element);\n",
              "          const docLink = document.createElement('div');\n",
              "          docLink.innerHTML = docLinkHtml;\n",
              "          element.appendChild(docLink);\n",
              "        }\n",
              "      </script>\n",
              "    </div>\n",
              "  </div>\n",
              "  "
            ]
          },
          "metadata": {},
          "execution_count": 3
        }
      ]
    },
    {
      "cell_type": "code",
      "source": [
        "gold_data.shape"
      ],
      "metadata": {
        "colab": {
          "base_uri": "https://localhost:8080/"
        },
        "id": "GPcTrDOkA6Ar",
        "outputId": "db50b126-1d70-44ed-bb4f-875d6785eaa5"
      },
      "execution_count": 4,
      "outputs": [
        {
          "output_type": "execute_result",
          "data": {
            "text/plain": [
              "(2290, 6)"
            ]
          },
          "metadata": {},
          "execution_count": 4
        }
      ]
    },
    {
      "cell_type": "code",
      "source": [
        "gold_data.describe()"
      ],
      "metadata": {
        "colab": {
          "base_uri": "https://localhost:8080/",
          "height": 300
        },
        "id": "pb2f9z_tA9Zh",
        "outputId": "07384dda-79b4-4884-8a76-8c8480939c05"
      },
      "execution_count": 5,
      "outputs": [
        {
          "output_type": "execute_result",
          "data": {
            "text/plain": [
              "               SPX          GLD          USO          SLV      EUR/USD\n",
              "count  2290.000000  2290.000000  2290.000000  2290.000000  2290.000000\n",
              "mean   1654.315776   122.732875    31.842221    20.084997     1.283653\n",
              "std     519.111540    23.283346    19.523517     7.092566     0.131547\n",
              "min     676.530029    70.000000     7.960000     8.850000     1.039047\n",
              "25%    1239.874969   109.725000    14.380000    15.570000     1.171313\n",
              "50%    1551.434998   120.580002    33.869999    17.268500     1.303297\n",
              "75%    2073.010070   132.840004    37.827501    22.882500     1.369971\n",
              "max    2872.870117   184.589996   117.480003    47.259998     1.598798"
            ],
            "text/html": [
              "\n",
              "  <div id=\"df-f162daa9-b31e-4646-b114-51e4df9328e3\">\n",
              "    <div class=\"colab-df-container\">\n",
              "      <div>\n",
              "<style scoped>\n",
              "    .dataframe tbody tr th:only-of-type {\n",
              "        vertical-align: middle;\n",
              "    }\n",
              "\n",
              "    .dataframe tbody tr th {\n",
              "        vertical-align: top;\n",
              "    }\n",
              "\n",
              "    .dataframe thead th {\n",
              "        text-align: right;\n",
              "    }\n",
              "</style>\n",
              "<table border=\"1\" class=\"dataframe\">\n",
              "  <thead>\n",
              "    <tr style=\"text-align: right;\">\n",
              "      <th></th>\n",
              "      <th>SPX</th>\n",
              "      <th>GLD</th>\n",
              "      <th>USO</th>\n",
              "      <th>SLV</th>\n",
              "      <th>EUR/USD</th>\n",
              "    </tr>\n",
              "  </thead>\n",
              "  <tbody>\n",
              "    <tr>\n",
              "      <th>count</th>\n",
              "      <td>2290.000000</td>\n",
              "      <td>2290.000000</td>\n",
              "      <td>2290.000000</td>\n",
              "      <td>2290.000000</td>\n",
              "      <td>2290.000000</td>\n",
              "    </tr>\n",
              "    <tr>\n",
              "      <th>mean</th>\n",
              "      <td>1654.315776</td>\n",
              "      <td>122.732875</td>\n",
              "      <td>31.842221</td>\n",
              "      <td>20.084997</td>\n",
              "      <td>1.283653</td>\n",
              "    </tr>\n",
              "    <tr>\n",
              "      <th>std</th>\n",
              "      <td>519.111540</td>\n",
              "      <td>23.283346</td>\n",
              "      <td>19.523517</td>\n",
              "      <td>7.092566</td>\n",
              "      <td>0.131547</td>\n",
              "    </tr>\n",
              "    <tr>\n",
              "      <th>min</th>\n",
              "      <td>676.530029</td>\n",
              "      <td>70.000000</td>\n",
              "      <td>7.960000</td>\n",
              "      <td>8.850000</td>\n",
              "      <td>1.039047</td>\n",
              "    </tr>\n",
              "    <tr>\n",
              "      <th>25%</th>\n",
              "      <td>1239.874969</td>\n",
              "      <td>109.725000</td>\n",
              "      <td>14.380000</td>\n",
              "      <td>15.570000</td>\n",
              "      <td>1.171313</td>\n",
              "    </tr>\n",
              "    <tr>\n",
              "      <th>50%</th>\n",
              "      <td>1551.434998</td>\n",
              "      <td>120.580002</td>\n",
              "      <td>33.869999</td>\n",
              "      <td>17.268500</td>\n",
              "      <td>1.303297</td>\n",
              "    </tr>\n",
              "    <tr>\n",
              "      <th>75%</th>\n",
              "      <td>2073.010070</td>\n",
              "      <td>132.840004</td>\n",
              "      <td>37.827501</td>\n",
              "      <td>22.882500</td>\n",
              "      <td>1.369971</td>\n",
              "    </tr>\n",
              "    <tr>\n",
              "      <th>max</th>\n",
              "      <td>2872.870117</td>\n",
              "      <td>184.589996</td>\n",
              "      <td>117.480003</td>\n",
              "      <td>47.259998</td>\n",
              "      <td>1.598798</td>\n",
              "    </tr>\n",
              "  </tbody>\n",
              "</table>\n",
              "</div>\n",
              "      <button class=\"colab-df-convert\" onclick=\"convertToInteractive('df-f162daa9-b31e-4646-b114-51e4df9328e3')\"\n",
              "              title=\"Convert this dataframe to an interactive table.\"\n",
              "              style=\"display:none;\">\n",
              "        \n",
              "  <svg xmlns=\"http://www.w3.org/2000/svg\" height=\"24px\"viewBox=\"0 0 24 24\"\n",
              "       width=\"24px\">\n",
              "    <path d=\"M0 0h24v24H0V0z\" fill=\"none\"/>\n",
              "    <path d=\"M18.56 5.44l.94 2.06.94-2.06 2.06-.94-2.06-.94-.94-2.06-.94 2.06-2.06.94zm-11 1L8.5 8.5l.94-2.06 2.06-.94-2.06-.94L8.5 2.5l-.94 2.06-2.06.94zm10 10l.94 2.06.94-2.06 2.06-.94-2.06-.94-.94-2.06-.94 2.06-2.06.94z\"/><path d=\"M17.41 7.96l-1.37-1.37c-.4-.4-.92-.59-1.43-.59-.52 0-1.04.2-1.43.59L10.3 9.45l-7.72 7.72c-.78.78-.78 2.05 0 2.83L4 21.41c.39.39.9.59 1.41.59.51 0 1.02-.2 1.41-.59l7.78-7.78 2.81-2.81c.8-.78.8-2.07 0-2.86zM5.41 20L4 18.59l7.72-7.72 1.47 1.35L5.41 20z\"/>\n",
              "  </svg>\n",
              "      </button>\n",
              "      \n",
              "  <style>\n",
              "    .colab-df-container {\n",
              "      display:flex;\n",
              "      flex-wrap:wrap;\n",
              "      gap: 12px;\n",
              "    }\n",
              "\n",
              "    .colab-df-convert {\n",
              "      background-color: #E8F0FE;\n",
              "      border: none;\n",
              "      border-radius: 50%;\n",
              "      cursor: pointer;\n",
              "      display: none;\n",
              "      fill: #1967D2;\n",
              "      height: 32px;\n",
              "      padding: 0 0 0 0;\n",
              "      width: 32px;\n",
              "    }\n",
              "\n",
              "    .colab-df-convert:hover {\n",
              "      background-color: #E2EBFA;\n",
              "      box-shadow: 0px 1px 2px rgba(60, 64, 67, 0.3), 0px 1px 3px 1px rgba(60, 64, 67, 0.15);\n",
              "      fill: #174EA6;\n",
              "    }\n",
              "\n",
              "    [theme=dark] .colab-df-convert {\n",
              "      background-color: #3B4455;\n",
              "      fill: #D2E3FC;\n",
              "    }\n",
              "\n",
              "    [theme=dark] .colab-df-convert:hover {\n",
              "      background-color: #434B5C;\n",
              "      box-shadow: 0px 1px 3px 1px rgba(0, 0, 0, 0.15);\n",
              "      filter: drop-shadow(0px 1px 2px rgba(0, 0, 0, 0.3));\n",
              "      fill: #FFFFFF;\n",
              "    }\n",
              "  </style>\n",
              "\n",
              "      <script>\n",
              "        const buttonEl =\n",
              "          document.querySelector('#df-f162daa9-b31e-4646-b114-51e4df9328e3 button.colab-df-convert');\n",
              "        buttonEl.style.display =\n",
              "          google.colab.kernel.accessAllowed ? 'block' : 'none';\n",
              "\n",
              "        async function convertToInteractive(key) {\n",
              "          const element = document.querySelector('#df-f162daa9-b31e-4646-b114-51e4df9328e3');\n",
              "          const dataTable =\n",
              "            await google.colab.kernel.invokeFunction('convertToInteractive',\n",
              "                                                     [key], {});\n",
              "          if (!dataTable) return;\n",
              "\n",
              "          const docLinkHtml = 'Like what you see? Visit the ' +\n",
              "            '<a target=\"_blank\" href=https://colab.research.google.com/notebooks/data_table.ipynb>data table notebook</a>'\n",
              "            + ' to learn more about interactive tables.';\n",
              "          element.innerHTML = '';\n",
              "          dataTable['output_type'] = 'display_data';\n",
              "          await google.colab.output.renderOutput(dataTable, element);\n",
              "          const docLink = document.createElement('div');\n",
              "          docLink.innerHTML = docLinkHtml;\n",
              "          element.appendChild(docLink);\n",
              "        }\n",
              "      </script>\n",
              "    </div>\n",
              "  </div>\n",
              "  "
            ]
          },
          "metadata": {},
          "execution_count": 5
        }
      ]
    },
    {
      "cell_type": "code",
      "source": [
        "gold_data.isnull().sum()"
      ],
      "metadata": {
        "colab": {
          "base_uri": "https://localhost:8080/"
        },
        "id": "fg6VCOjQBAPF",
        "outputId": "aeecfe7b-b63b-4871-c312-b7085a84a263"
      },
      "execution_count": 6,
      "outputs": [
        {
          "output_type": "execute_result",
          "data": {
            "text/plain": [
              "Date       0\n",
              "SPX        0\n",
              "GLD        0\n",
              "USO        0\n",
              "SLV        0\n",
              "EUR/USD    0\n",
              "dtype: int64"
            ]
          },
          "metadata": {},
          "execution_count": 6
        }
      ]
    },
    {
      "cell_type": "markdown",
      "source": [
        "Correlation\n",
        "\n",
        "1.Positive correlation\n",
        "\n",
        "2.Negative correlation"
      ],
      "metadata": {
        "id": "xOP3WkcGBSBe"
      }
    },
    {
      "cell_type": "code",
      "source": [
        "correlation=gold_data.corr()"
      ],
      "metadata": {
        "id": "qObCWbfsBEWo"
      },
      "execution_count": 7,
      "outputs": []
    },
    {
      "cell_type": "code",
      "source": [
        "#creating a heatmap\n",
        "plt.figure(figsize=(8,8))\n",
        "sns.heatmap(correlation,cbar=True,square=True,fmt='.1f',annot=True,annot_kws={'size':8},cmap='Blues')"
      ],
      "metadata": {
        "colab": {
          "base_uri": "https://localhost:8080/",
          "height": 487
        },
        "id": "EyzUdapeBdYV",
        "outputId": "c2c220b6-d0f1-45ce-8763-209dc44e4375"
      },
      "execution_count": 8,
      "outputs": [
        {
          "output_type": "execute_result",
          "data": {
            "text/plain": [
              "<matplotlib.axes._subplots.AxesSubplot at 0x7fbce1914510>"
            ]
          },
          "metadata": {},
          "execution_count": 8
        },
        {
          "output_type": "display_data",
          "data": {
            "text/plain": [
              "<Figure size 576x576 with 2 Axes>"
            ],
            "image/png": "[encoded data removed]"
          },
          "metadata": {
            "needs_background": "light"
          }
        }
      ]
    },
    {
      "cell_type": "code",
      "source": [
        "#checking distribution of GLD\n",
        "sns.distplot(gold_data['GLD'],color='green')"
      ],
      "metadata": {
        "colab": {
          "base_uri": "https://localhost:8080/",
          "height": 355
        },
        "id": "6alb0T0CB13v",
        "outputId": "d702849a-976e-421f-d336-b1f6080137f5"
      },
      "execution_count": 10,
      "outputs": [
        {
          "output_type": "stream",
          "name": "stderr",
          "text": [
            "/usr/local/lib/python3.7/dist-packages/seaborn/distributions.py:2619: FutureWarning: `distplot` is a deprecated function and will be removed in a future version. Please adapt your code to use either `displot` (a figure-level function with similar flexibility) or `histplot` (an axes-level function for histograms).\n",
            "  warnings.warn(msg, FutureWarning)\n"
          ]
        },
        {
          "output_type": "execute_result",
          "data": {
            "text/plain": [
              "<matplotlib.axes._subplots.AxesSubplot at 0x7fbcdaae4950>"
            ]
          },
          "metadata": {},
          "execution_count": 10
        },
        {
          "output_type": "display_data",
          "data": {
            "text/plain": [
              "<Figure size 432x288 with 1 Axes>"
            ],
            "image/png": "[encoded data removed]"
          },
          "metadata": {
            "needs_background": "light"
          }
        }
      ]
    },
    {
      "cell_type": "markdown",
      "source": [
        "Separating Data and Label"
      ],
      "metadata": {
        "id": "dAxzb2V7Ccdr"
      }
    },
    {
      "cell_type": "code",
      "source": [
        "X=gold_data.drop(columns=['Date','GLD'],axis=1)\n",
        "Y=gold_data['GLD']\n",
        "print(X)\n",
        "print(Y)"
      ],
      "metadata": {
        "colab": {
          "base_uri": "https://localhost:8080/"
        },
        "id": "pQrrXRaJCTnn",
        "outputId": "87b14d2e-6f88-4fd9-b520-788dcdd60463"
      },
      "execution_count": 11,
      "outputs": [
        {
          "output_type": "stream",
          "name": "stdout",
          "text": [
            "              SPX        USO      SLV   EUR/USD\n",
            "0     1447.160034  78.470001  15.1800  1.471692\n",
            "1     1447.160034  78.370003  15.2850  1.474491\n",
            "2     1411.630005  77.309998  15.1670  1.475492\n",
            "3     1416.180054  75.500000  15.0530  1.468299\n",
            "4     1390.189941  76.059998  15.5900  1.557099\n",
            "...           ...        ...      ...       ...\n",
            "2285  2671.919922  14.060000  15.5100  1.186789\n",
            "2286  2697.790039  14.370000  15.5300  1.184722\n",
            "2287  2723.070068  14.410000  15.7400  1.191753\n",
            "2288  2730.129883  14.380000  15.5600  1.193118\n",
            "2289  2725.780029  14.405800  15.4542  1.182033\n",
            "\n",
            "[2290 rows x 4 columns]\n",
            "0        84.860001\n",
            "1        85.570000\n",
            "2        85.129997\n",
            "3        84.769997\n",
            "4        86.779999\n",
            "           ...    \n",
            "2285    124.589996\n",
            "2286    124.330002\n",
            "2287    125.180000\n",
            "2288    124.489998\n",
            "2289    122.543800\n",
            "Name: GLD, Length: 2290, dtype: float64\n"
          ]
        }
      ]
    },
    {
      "cell_type": "markdown",
      "source": [
        "Splitting into Training and Testing data"
      ],
      "metadata": {
        "id": "Hw7MygWiCvX4"
      }
    },
    {
      "cell_type": "code",
      "source": [
        "X_train,X_test,Y_train,Y_test=train_test_split(X,Y,test_size=0.2,random_state=2)"
      ],
      "metadata": {
        "id": "98ugzqwACqMY"
      },
      "execution_count": 12,
      "outputs": []
    },
    {
      "cell_type": "code",
      "source": [
        "print(X.shape,X_train.shape,X_test.shape)"
      ],
      "metadata": {
        "colab": {
          "base_uri": "https://localhost:8080/"
        },
        "id": "s3ElB5AqC-Qq",
        "outputId": "0913db5d-aa03-4111-8e28-9bd8a1425546"
      },
      "execution_count": 13,
      "outputs": [
        {
          "output_type": "stream",
          "name": "stdout",
          "text": [
            "(2290, 4) (1832, 4) (458, 4)\n"
          ]
        }
      ]
    },
    {
      "cell_type": "markdown",
      "source": [
        "Model Training"
      ],
      "metadata": {
        "id": "8FSed8FQDEaX"
      }
    },
    {
      "cell_type": "code",
      "source": [
        "model=RandomForestRegressor(n_estimators=100)"
      ],
      "metadata": {
        "id": "YXEveTM3DDHy"
      },
      "execution_count": 19,
      "outputs": []
    },
    {
      "cell_type": "code",
      "source": [
        "model.fit(X_train,Y_train)"
      ],
      "metadata": {
        "colab": {
          "base_uri": "https://localhost:8080/"
        },
        "id": "LoXt6l9hDLJK",
        "outputId": "26734497-f466-4faf-aa61-3c3deb026ce2"
      },
      "execution_count": 20,
      "outputs": [
        {
          "output_type": "execute_result",
          "data": {
            "text/plain": [
              "RandomForestRegressor()"
            ]
          },
          "metadata": {},
          "execution_count": 20
        }
      ]
    },
    {
      "cell_type": "markdown",
      "source": [
        "Model Evaluation"
      ],
      "metadata": {
        "id": "RdcyoI3fD8BF"
      }
    },
    {
      "cell_type": "code",
      "source": [
        "test_data_prediction=model.predict(X_test)"
      ],
      "metadata": {
        "id": "s2DIiKcUDNqt"
      },
      "execution_count": 24,
      "outputs": []
    },
    {
      "cell_type": "code",
      "source": [
        "#R squared error\n",
        "error_score=metrics.r2_score(Y_test,test_data_prediction)\n",
        "print('R squared error:',error_score)"
      ],
      "metadata": {
        "colab": {
          "base_uri": "https://localhost:8080/"
        },
        "id": "LlBJks73EDbj",
        "outputId": "16ec152b-ada7-4491-a184-d0a7f871cdf4"
      },
      "execution_count": 27,
      "outputs": [
        {
          "output_type": "stream",
          "name": "stdout",
          "text": [
            "R squared error: 0.9889987306553248\n"
          ]
        }
      ]
    },
    {
      "cell_type": "markdown",
      "source": [
        "Comparing Actual vs Predicted values"
      ],
      "metadata": {
        "id": "wcSusqPZEi0G"
      }
    },
    {
      "cell_type": "code",
      "source": [
        "Y_test=list(Y_test)"
      ],
      "metadata": {
        "id": "GJ3-DFh7EYBI"
      },
      "execution_count": 29,
      "outputs": []
    },
    {
      "cell_type": "code",
      "source": [
        "plt.plot(Y_test,color='blue',label='Actual value')\n",
        "plt.plot(test_data_prediction,color='green',label='Predicted value')\n",
        "plt.show()"
      ],
      "metadata": {
        "colab": {
          "base_uri": "https://localhost:8080/",
          "height": 265
        },
        "id": "4UWu5Bk2EpMq",
        "outputId": "adcdca1b-4ec9-413f-d265-7c02f2d3a03d"
      },
      "execution_count": 31,
      "outputs": [
        {
          "output_type": "display_data",
          "data": {
            "text/plain": [
              "<Figure size 432x288 with 1 Axes>"
            ],
            "image/png": "[encoded data removed]"
          },
          "metadata": {
            "needs_background": "light"
          }
        }
      ]
    }
  ]
}